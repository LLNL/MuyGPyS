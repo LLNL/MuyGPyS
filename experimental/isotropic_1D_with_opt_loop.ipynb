{
    "cells": [
        {
            "attachments": {},
            "cell_type": "markdown",
            "metadata": {},
            "source": [
                "Copyright 2021-2023 Lawrence Livermore National Security, LLC and other MuyGPyS\n",
                "Project Developers. See the top-level COPYRIGHT file for details.\n",
                "\n",
                "SPDX-License-Identifier: MIT"
            ]
        },
        {
            "attachments": {},
            "cell_type": "markdown",
            "metadata": {},
            "source": [
                "# Univariate regression with optimization loop chassis\n",
                "\n",
                "This notebook walks through the [Univariate Regression Tutorial](../docs/examples/univariate_regression_tutorial.ipynb) using experimental optimaztion loop chassis. The goal is to recover the response on the held-out test data by training a univariate `MuyGPS` model on the perturbed training data with `length_scale` and `measurement_noise` known, while `nu` smoothness hyperparameter is to be learned.\n",
                "1. Sample a curve from a conventional GP\n",
                "2. Construct nearest neighbor lookups\n",
                "3. Create duplicate of `MuyGPyS` object used in `sampler` to be used for training and inference\n",
                "4. Call `optimize_from_tensors_mini_batch` to sample batches of data, construct tensors, and run bayes optimization using numpy math backend"
            ]
        },
        {
            "cell_type": "code",
            "execution_count": null,
            "metadata": {},
            "outputs": [],
            "source": [
                "import sys\n",
                "for m in sys.modules.keys():\n",
                "    if m.startswith(\"Muy\"):\n",
                "        sys.modules.pop(m)\n",
                "%env MUYGPYS_BACKEND=numpy\n",
                "%env MUYGPYS_FTYPE=64"
            ]
        },
        {
            "cell_type": "code",
            "execution_count": null,
            "metadata": {},
            "outputs": [],
            "source": [
                "import numpy as np\n",
                "\n",
                "from docs.examples.utils import UnivariateSampler\n",
                "\n",
                "from MuyGPyS.gp import MuyGPS\n",
                "from MuyGPyS.gp.distortion import IsotropicDistortion, l2\n",
                "from MuyGPyS.gp.hyperparameter import ScalarHyperparameter\n",
                "from MuyGPyS.gp.kernels import Matern\n",
                "from MuyGPyS.gp.noise import HomoscedasticNoise\n",
                "from MuyGPyS.optimize.experimental.chassis import optimize_from_tensors_mini_batch\n",
                "\n",
                "\n",
                "np.random.seed(0)\n",
                "data_count = 5001\n",
                "train_step = 10\n",
                "nugget_noise = HomoscedasticNoise(1e-14)\n",
                "measurement_noise = HomoscedasticNoise(1e-7)\n",
                "sim_length_scale = ScalarHyperparameter(0.05)\n",
                "sim_nu = ScalarHyperparameter(2.0)\n",
                "sampler = UnivariateSampler(\n",
                "    data_count=data_count,\n",
                "    train_step=train_step,\n",
                "    kernel=Matern(\n",
                "        nu=sim_nu,\n",
                "        metric=IsotropicDistortion(\n",
                "            l2,\n",
                "            length_scale=sim_length_scale,\n",
                "        ),\n",
                "    ),\n",
                "    eps=nugget_noise,\n",
                "    measurement_eps=measurement_noise,\n",
                ")\n",
                "train_features, test_features = sampler.features()\n",
                "train_responses, test_responses = sampler.sample()\n",
                "sampler.plot_sample()\n",
                "\n",
                "exp_nu = ScalarHyperparameter(\"log_sample\", (0.1, 5.0))\n",
                "muygps = MuyGPS(\n",
                "    kernel=Matern(\n",
                "        nu=exp_nu,\n",
                "        metric=IsotropicDistortion(\n",
                "            l2,\n",
                "            length_scale=sim_length_scale,\n",
                "        ),\n",
                "    ),\n",
                "    eps=measurement_noise,\n",
                ")"
            ]
        },
        {
            "cell_type": "markdown",
            "metadata": {},
            "source": [
                "Validate using all training data."
            ]
        },
        {
            "cell_type": "code",
            "execution_count": null,
            "metadata": {},
            "outputs": [],
            "source": [
                "muygps_bayes_lool = optimize_from_tensors_mini_batch(\n",
                "    muygps,\n",
                "    train_features,\n",
                "    train_responses,\n",
                "    nn_count=30,\n",
                "    batch_count=sampler.train_count,\n",
                "    train_count=sampler.train_count,\n",
                "    length_scaled=False,\n",
                "    num_epochs=1,\n",
                "    batch_features=None,\n",
                "    loss_method=\"lool\",\n",
                "    obj_method=\"loo_crossval\",\n",
                "    sigma_method=\"analytic\",\n",
                "    verbose=True,\n",
                "    random_state=1,\n",
                "    init_points=5,\n",
                "    n_iter=20,\n",
                "    allow_duplicate_points=True,\n",
                ")\n",
                "print(f\"\\n`loss_method` 'lool' `nu` {muygps_bayes_lool.kernel.nu()} `sigma_sq` {muygps_bayes_lool.sigma_sq()}\")\n"
            ]
        },
        {
            "cell_type": "markdown",
            "metadata": {},
            "source": [
                "Test optimization loop chassis using sample batch size = 100."
            ]
        },
        {
            "cell_type": "code",
            "execution_count": null,
            "metadata": {},
            "outputs": [],
            "source": [
                "batch_count=100\n",
                "train_count=sampler.train_count\n",
                "num_epochs=int(sampler.train_count / batch_count)\n",
                "muygps_bayes_lool = optimize_from_tensors_mini_batch(\n",
                "    muygps,\n",
                "    train_features,\n",
                "    train_responses,\n",
                "    nn_count=30,\n",
                "    batch_count=batch_count,\n",
                "    train_count=train_count,\n",
                "    length_scaled=False,\n",
                "    num_epochs=num_epochs,\n",
                "    batch_features=None,\n",
                "    loss_method=\"lool\",\n",
                "    obj_method=\"loo_crossval\",\n",
                "    sigma_method=\"analytic\",\n",
                "    verbose=True,\n",
                "    random_state=1,\n",
                "    init_points=5,\n",
                "    n_iter=20,\n",
                "    allow_duplicate_points=True,\n",
                ")\n",
                "print(f\"\\n`loss_method` 'lool' `nu` {muygps_bayes_lool.kernel.nu()} `sigma_sq` {muygps_bayes_lool.sigma_sq()}\")\n"
            ]
        }
    ],
    "metadata": {
        "@webio": {
            "lastCommId": null,
            "lastKernelId": null
        },
        "kernelspec": {
            "display_name": "Python 3 (ipykernel)",
            "language": "python",
            "name": "python3"
        },
        "language_info": {
            "codemirror_mode": {
                "name": "ipython",
                "version": 3
            },
            "file_extension": ".py",
            "mimetype": "text/x-python",
            "name": "python",
            "nbconvert_exporter": "python",
            "pygments_lexer": "ipython3",
            "version": "3.8.17"
        },
        "toc": {
            "base_numbering": 1,
            "nav_menu": {},
            "number_sections": true,
            "sideBar": true,
            "skip_h1_title": false,
            "title_cell": "Table of Contents",
            "title_sidebar": "Contents",
            "toc_cell": false,
            "toc_position": {},
            "toc_section_display": true,
            "toc_window_display": false
        }
    },
    "nbformat": 4,
    "nbformat_minor": 4
}
