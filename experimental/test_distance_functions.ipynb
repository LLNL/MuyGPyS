{
 "cells": [
  {
   "cell_type": "markdown",
   "metadata": {},
   "source": [
    "Copyright 2021-2023 Lawrence Livermore National Security, LLC and other MuyGPyS\n",
    "Project Developers. See the top-level COPYRIGHT file for details.\n",
    "\n",
    "SPDX-License-Identifier: MIT"
   ]
  },
  {
   "cell_type": "code",
   "execution_count": 4,
   "metadata": {},
   "outputs": [
    {
     "name": "stdout",
     "output_type": "stream",
     "text": [
      "features (3600, 2)\n",
      "train features (277, 2)\n",
      "indices (277, 30)\n",
      "dists (277, 30)\n"
     ]
    }
   ],
   "source": [
    "import numpy as np\n",
    "import matplotlib.pyplot as plt\n",
    "\n",
    "from docs.examples.utils import UnivariateSampler2D\n",
    "\n",
    "from MuyGPyS.gp import MuyGPS\n",
    "from MuyGPyS.gp.distortion import AnisotropicDistortion, l2\n",
    "from MuyGPyS.gp.hyperparameter import ScalarHyperparameter\n",
    "from MuyGPyS.gp.kernels import Matern\n",
    "from MuyGPyS.gp.noise import HomoscedasticNoise\n",
    "from MuyGPyS.neighbors import NN_Wrapper\n",
    "from MuyGPyS.optimize.experimental.chassis import optimize_from_tensors_mini_batch\n",
    "import MuyGPyS._src.math as mm\n",
    "\n",
    "\n",
    "np.random.seed(0)\n",
    "\n",
    "def _train_mask():\n",
    "    return slice(None, None, train_step)\n",
    "\n",
    "def _test_mask():\n",
    "    return np.mod(np.arange(data_count), train_step) != 0\n",
    "\n",
    "\n",
    "# # 1D Univariate\n",
    "# data_count = 20#5001\n",
    "# train_step = 2#10\n",
    "# x = np.linspace(0, data_count, data_count)\n",
    "# x = x.reshape(data_count, 1)\n",
    "# test_mask = _test_mask()\n",
    "# train_mask  = _train_mask()\n",
    "# test_features = x[test_mask, :]\n",
    "# train_features = x[train_mask, :]\n",
    "# test_count, _ = test_features.shape\n",
    "# train_count, _ = train_features.shape\n",
    "# print(f\"features {x}\")\n",
    "# print(f\"train features {train_features}\")\n",
    "\n",
    "# # 1D Nearest Neighbors (sklearn)\n",
    "# nn_count = 3\n",
    "# batch_count = train_count\n",
    "# nbrs_lookup = NN_Wrapper(train_features, nn_count, nn_method=\"exact\", algorithm=\"ball_tree\")\n",
    "# if train_count > batch_count:\n",
    "#     batch_indices = mm.iarray(\n",
    "#         np.random.choice(train_count, batch_count, replace=False)\n",
    "#     )\n",
    "# else:\n",
    "#     batch_indices = mm.arange(train_count, dtype=mm.itype)\n",
    "# batch_nn_indices, batch_nn_dists = nbrs_lookup.get_batch_nns(batch_indices)\n",
    "# print(f\"indices {batch_nn_indices}\")\n",
    "# print(f\"dists {batch_nn_dists}\")\n",
    "\n",
    "# 2D Univariate\n",
    "points_per_dim = 60\n",
    "data_count = points_per_dim**2\n",
    "train_step = 13\n",
    "x = np.linspace(0, 1, points_per_dim)\n",
    "xx, yy = np.meshgrid(x, x)\n",
    "xs = np.array(\n",
    "    [\n",
    "        [xx[i, j], yy[i, j]]\n",
    "        for i in range(points_per_dim)\n",
    "        for j in range(points_per_dim)\n",
    "    ]\n",
    ")\n",
    "test_mask = _test_mask()\n",
    "train_mask  = _train_mask()\n",
    "test_features = xs[test_mask, :]\n",
    "train_features = xs[train_mask, :]\n",
    "test_count, _ = test_features.shape\n",
    "train_count, _ = train_features.shape\n",
    "print(f\"features {xs.shape}\")\n",
    "print(f\"train features {train_features.shape}\")\n",
    "\n",
    "# 2D Nearest Neighbors (sklearn)\n",
    "nn_count = 30\n",
    "batch_count = train_count\n",
    "nbrs_lookup = NN_Wrapper(train_features, nn_count, nn_method=\"exact\", algorithm=\"ball_tree\")\n",
    "if train_count > batch_count:\n",
    "    batch_indices = mm.iarray(\n",
    "        np.random.choice(train_count, batch_count, replace=False)\n",
    "    )\n",
    "else:\n",
    "    batch_indices = mm.arange(train_count, dtype=mm.itype)\n",
    "batch_nn_indices, batch_nn_dists = nbrs_lookup.get_batch_nns(batch_indices)\n",
    "print(f\"indices {batch_nn_indices.shape}\")\n",
    "print(f\"dists {batch_nn_dists.shape}\")"
   ]
  }
 ],
 "metadata": {
  "@webio": {
   "lastCommId": null,
   "lastKernelId": null
  },
  "kernelspec": {
   "display_name": "Python 3 (ipykernel)",
   "language": "python",
   "name": "python3"
  },
  "language_info": {
   "codemirror_mode": {
    "name": "ipython",
    "version": 3
   },
   "file_extension": ".py",
   "mimetype": "text/x-python",
   "name": "python",
   "nbconvert_exporter": "python",
   "pygments_lexer": "ipython3",
   "version": "3.8.17"
  },
  "toc": {
   "base_numbering": 1,
   "nav_menu": {},
   "number_sections": true,
   "sideBar": true,
   "skip_h1_title": false,
   "title_cell": "Table of Contents",
   "title_sidebar": "Contents",
   "toc_cell": false,
   "toc_position": {},
   "toc_section_display": true,
   "toc_window_display": false
  }
 },
 "nbformat": 4,
 "nbformat_minor": 4
}
