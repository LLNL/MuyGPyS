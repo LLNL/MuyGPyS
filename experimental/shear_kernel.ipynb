{
 "cells": [
  {
   "cell_type": "markdown",
   "metadata": {},
   "source": [
    "Copyright 2023-2023 Lawrence Livermore National Security, LLC and other MuyGPyS\n",
    "Project Developers. See the top-level COPYRIGHT file for details.\n",
    "\n",
    "SPDX-License-Identifier: MIT"
   ]
  },
  {
   "cell_type": "markdown",
   "metadata": {},
   "source": [
    "# Shear Kernel Tutorial\n",
    "\n",
    "This notebook demonstrates how to use the specialized lensing shear kernel (hard-coded to RBF at the moment).\n",
    "\n",
    "⚠️ _Note that this is still an experimental feature._ ⚠️"
   ]
  },
  {
   "cell_type": "code",
   "execution_count": null,
   "metadata": {},
   "outputs": [],
   "source": [
    "import matplotlib.pyplot as plt\n",
    "import numpy as np\n",
    "\n",
    "from matplotlib.colors import LogNorm\n",
    "from MuyGPyS._src.gp.tensors import _crosswise_differences, _pairwise_differences\n",
    "from MuyGPyS.gp import MuyGPS\n",
    "from MuyGPyS.gp.deformation import Isotropy, l2, F2\n",
    "from MuyGPyS.gp.hyperparameter import Parameter\n",
    "from MuyGPyS.gp.kernels.experimental import ShearKernel"
   ]
  },
  {
   "cell_type": "markdown",
   "metadata": {},
   "source": [
    "This is required to import the implementation from Bob Armstrong's original repository.\n",
    "Must set `shear_kernel_dir = \"path/to/local/shear_kernel/\"` for things to run properly."
   ]
  },
  {
   "cell_type": "code",
   "execution_count": null,
   "metadata": {},
   "outputs": [],
   "source": [
    "import importlib.util\n",
    "import sys\n",
    "import torch\n",
    "# introduce a variable for path/to/shear_kernel\n",
    "shear_kernel_dir = \"../../../projects/shear_kernel/\"\n",
    "spec_analytic = importlib.util.spec_from_file_location(\"analytic_kernel\", shear_kernel_dir + \"analytic_kernel.py\") \n",
    "bar = importlib.util.module_from_spec(spec_analytic)\n",
    "sys.modules[\"analytic_kernel\"] = bar\n",
    "spec_analytic.loader.exec_module(bar)\n",
    "from analytic_kernel import shear_kernel"
   ]
  },
  {
   "cell_type": "markdown",
   "metadata": {},
   "source": [
    "We will set a random seed here for consistency when building docs.\n",
    "In practice we would not fix a seed."
   ]
  },
  {
   "cell_type": "code",
   "execution_count": null,
   "metadata": {},
   "outputs": [],
   "source": [
    "np.random.seed(0)"
   ]
  },
  {
   "cell_type": "markdown",
   "metadata": {},
   "source": [
    "Here we build some simple data, which is mean to represent a grid of sky coordinates."
   ]
  },
  {
   "cell_type": "code",
   "execution_count": null,
   "metadata": {},
   "outputs": [],
   "source": [
    "n = 25  # number of galaxies on a side\n",
    "xmin = 0\n",
    "xmax = 1\n",
    "ymin = 0\n",
    "ymax = 1\n",
    "\n",
    "xx = np.linspace(xmin, xmax, n)\n",
    "yy = np.linspace(ymin, ymax, n)\n",
    "\n",
    "x, y = np.meshgrid(xx, yy)\n",
    "features = np.vstack((x.flatten(), y.flatten())).T\n",
    "data_count = features.shape[0]\n",
    "diffs = _pairwise_differences(features)\n",
    "length_scale = 0.5"
   ]
  },
  {
   "cell_type": "markdown",
   "metadata": {},
   "source": [
    "Use an Isotropic distance functor."
   ]
  },
  {
   "cell_type": "code",
   "execution_count": null,
   "metadata": {},
   "outputs": [],
   "source": [
    "dist_fn = Isotropy(\n",
    "    metric=F2,\n",
    "    length_scale=Parameter(length_scale),\n",
    ")"
   ]
  },
  {
   "cell_type": "markdown",
   "metadata": {},
   "source": [
    "Here we construct a shear value kernel (partial differential components of RBF), as well as the original RBF kernel using Bob's implementation."
   ]
  },
  {
   "cell_type": "code",
   "execution_count": null,
   "metadata": {},
   "outputs": [],
   "source": [
    "def original_shear(X1, X2=None, length_scale=1.0):\n",
    "    if X2 is None:\n",
    "        X2 = X1\n",
    "    n1, _ = X1.shape\n",
    "    n2, _ = X2.shape\n",
    "    vals = np.zeros((3 * (n1), 3 * (n2)))\n",
    "    vals[:] = np.nan\n",
    "    for i, (ix, iy) in enumerate(X1):\n",
    "        for j, (jx, jy) in enumerate(X2):\n",
    "            tmp = shear_kernel(ix, iy, jx, jy, b=length_scale)\n",
    "            for a in range(3):\n",
    "                for b in range(3):\n",
    "                    vals[(a * n1) + i, (b * n2) + j] = tmp[a, b]\n",
    "            \n",
    "    return vals"
   ]
  },
  {
   "cell_type": "code",
   "execution_count": null,
   "metadata": {},
   "outputs": [],
   "source": [
    "Kin_analytic = original_shear(features, length_scale=length_scale)"
   ]
  },
  {
   "cell_type": "markdown",
   "metadata": {},
   "source": [
    "Here we do the same using the MuyGPyS implementation. Note the increased efficiency."
   ]
  },
  {
   "cell_type": "code",
   "execution_count": null,
   "metadata": {},
   "outputs": [],
   "source": [
    "Kin_muygps = ShearKernel(deformation=dist_fn)(diffs)"
   ]
  },
  {
   "cell_type": "markdown",
   "metadata": {},
   "source": [
    "`Kin_muygps` is a more generalized tensor, so we need to flatten it to a conforming shape."
   ]
  },
  {
   "cell_type": "code",
   "execution_count": null,
   "metadata": {},
   "outputs": [],
   "source": [
    "Kin_muygps_flat = Kin_muygps.reshape(data_count * 3, data_count * 3)"
   ]
  },
  {
   "cell_type": "code",
   "execution_count": null,
   "metadata": {},
   "outputs": [],
   "source": [
    "print(f\"Kin_analytic.shape = {Kin_analytic.shape}\")\n",
    "print(f\"Kin_muygps.shape = {Kin_muygps.shape}\")\n",
    "print(f\"Kin_muygps_flat.shape = {Kin_muygps_flat.shape}\")"
   ]
  },
  {
   "cell_type": "markdown",
   "metadata": {},
   "source": [
    "Do the two implementations agree?"
   ]
  },
  {
   "cell_type": "code",
   "execution_count": null,
   "metadata": {
    "scrolled": false
   },
   "outputs": [],
   "source": [
    "np.allclose(Kin_analytic, Kin_muygps_flat)"
   ]
  },
  {
   "cell_type": "code",
   "execution_count": null,
   "metadata": {},
   "outputs": [],
   "source": [
    "residual = np.abs(Kin_analytic - Kin_muygps_flat)\n",
    "print(f\"residual max: {np.max(residual)}, min: {np.min(residual)}, mean : {np.mean(residual)}\")"
   ]
  },
  {
   "cell_type": "markdown",
   "metadata": {},
   "source": [
    "Plot results of the baseline and internal implementations. "
   ]
  },
  {
   "cell_type": "code",
   "execution_count": null,
   "metadata": {},
   "outputs": [],
   "source": [
    "fig, axes = plt.subplots(1, 3, figsize=(12, 4))\n",
    "axes[0].set_title(\"original shear kernel\")\n",
    "axes[0].imshow(Kin_analytic)\n",
    "axes[1].set_title(\"MuyGPyS shear kernel\")\n",
    "axes[1].imshow(Kin_muygps_flat)\n",
    "axes[2].set_title(\"Residual\")\n",
    "im = axes[2].imshow(residual, norm=LogNorm())\n",
    "fig.colorbar(im, ax=axes[2])\n",
    "plt.show()"
   ]
  },
  {
   "cell_type": "markdown",
   "metadata": {},
   "source": [
    "Now we perform a similar analysis for the cross-covariance."
   ]
  },
  {
   "cell_type": "code",
   "execution_count": null,
   "metadata": {},
   "outputs": [],
   "source": [
    "split = 200\n",
    "X1 = features[:split]\n",
    "X2 = features[split:]\n",
    "n1, _ = X1.shape\n",
    "n2, _ = X2.shape\n",
    "crosswise_diffs = _crosswise_differences(X1, X2)\n",
    "print(X1.shape, X2.shape, crosswise_diffs.shape)"
   ]
  },
  {
   "cell_type": "code",
   "execution_count": null,
   "metadata": {},
   "outputs": [],
   "source": [
    "Kcross_analytic = original_shear(X1, X2, length_scale=length_scale)"
   ]
  },
  {
   "cell_type": "code",
   "execution_count": null,
   "metadata": {},
   "outputs": [],
   "source": [
    "Kcross_muygps = ShearKernel(deformation=dist_fn)(crosswise_diffs, adjust=False)"
   ]
  },
  {
   "cell_type": "code",
   "execution_count": null,
   "metadata": {},
   "outputs": [],
   "source": [
    "Kcross_muygps_flat = Kcross_muygps.reshape(n1 * 3, n2 * 3)"
   ]
  },
  {
   "cell_type": "code",
   "execution_count": null,
   "metadata": {},
   "outputs": [],
   "source": [
    "print(f\"Kcross_analytic.shape = {Kcross_analytic.shape}\")\n",
    "print(f\"Kcross_muygps.shape = {Kcross_muygps.shape}\")\n",
    "print(f\"Kcross_muygps_flat.shape = {Kcross_muygps_flat.shape}\")"
   ]
  },
  {
   "cell_type": "code",
   "execution_count": null,
   "metadata": {},
   "outputs": [],
   "source": [
    "np.allclose(Kcross_analytic, Kcross_muygps_flat)"
   ]
  },
  {
   "cell_type": "code",
   "execution_count": null,
   "metadata": {},
   "outputs": [],
   "source": [
    "cross_residual = np.abs(Kcross_analytic - Kcross_muygps_flat)\n",
    "print(f\"residual max: {np.max(cross_residual)}, min: {np.min(cross_residual)}, mean : {np.mean(cross_residual)}\")"
   ]
  },
  {
   "cell_type": "code",
   "execution_count": null,
   "metadata": {},
   "outputs": [],
   "source": [
    "fig, axes = plt.subplots(1, 3, figsize=(12, 4))\n",
    "axes[0].set_title(\"original shear kernel\")\n",
    "axes[0].imshow(Kcross_analytic)\n",
    "axes[1].set_title(\"MuyGPyS shear kernel\")\n",
    "axes[1].imshow(Kcross_muygps_flat)\n",
    "axes[2].set_title(\"Residual\")\n",
    "im = axes[2].imshow(cross_residual, norm=LogNorm())\n",
    "fig.colorbar(im, ax=axes[2])\n",
    "plt.show()"
   ]
  },
  {
   "cell_type": "markdown",
   "metadata": {},
   "source": [
    "Runtime comparison of the two implementations:"
   ]
  },
  {
   "cell_type": "code",
   "execution_count": null,
   "metadata": {},
   "outputs": [],
   "source": [
    "if False:\n",
    "    %timeit original_shear(features)\n",
    "    %timeit ShearKernel(deformation=dist_fn)(diffs)"
   ]
  },
  {
   "cell_type": "markdown",
   "metadata": {},
   "source": [
    "# Test"
   ]
  },
  {
   "cell_type": "markdown",
   "metadata": {},
   "source": [
    "For a more formal test, use the data generated with galsim.\n",
    "This will provide a \"proper\" set of features and responses.\n",
    "Essentially we want to emulate the procedure with exactly the data that are used."
   ]
  },
  {
   "cell_type": "code",
   "execution_count": null,
   "metadata": {},
   "outputs": [],
   "source": [
    "from MuyGPyS.gp import MuyGPS"
   ]
  },
  {
   "cell_type": "code",
   "execution_count": null,
   "metadata": {},
   "outputs": [],
   "source": [
    "foo = shear_kernel_dir + \"gregs_work/nbs/kernel_check.pt\"\n",
    "unscaled_features, unscaled_responses, scale_responses, mean_responses, scale_features, mean_features = torch.load(foo)\n",
    "\n",
    "# normalize the data\n",
    "features = ( np.array(unscaled_features) - np.array(mean_features) ) / np.array(scale_features)\n",
    "train_count, feature_count = unscaled_features.shape\n",
    "responses = ( np.array(unscaled_responses).reshape(train_count, 3) - np.array(mean_responses) ) /np.array(scale_responses) # these are the targets"
   ]
  },
  {
   "cell_type": "code",
   "execution_count": null,
   "metadata": {},
   "outputs": [],
   "source": [
    "unscaled_responses.shape"
   ]
  },
  {
   "cell_type": "markdown",
   "metadata": {},
   "source": [
    "Explicitly define the target matrices.\n",
    "Also add leading unitary dimension to `targets_muygpys` for things to work."
   ]
  },
  {
   "cell_type": "code",
   "execution_count": null,
   "metadata": {},
   "outputs": [],
   "source": [
    "targets_analytic = responses\n",
    "targets_muygps = responses[None,:].swapaxes(-2, -1)\n",
    "print(targets_analytic.shape, targets_muygps.shape)"
   ]
  },
  {
   "cell_type": "markdown",
   "metadata": {},
   "source": [
    "We have already determined that the two implementations agree. \n",
    "I will recreate the `K*_analytic` and `K*_muygps` to use with the data.\n",
    "Need leading unitary dimensions on `K*` for things to play nice."
   ]
  },
  {
   "cell_type": "code",
   "execution_count": null,
   "metadata": {},
   "outputs": [],
   "source": [
    "# Analytic\n",
    "Kin_analytic = original_shear(features, length_scale=length_scale)\n",
    "Kcross_analytic = original_shear(features, features, length_scale=length_scale)\n",
    "\n",
    "# MuyGPyS\n",
    "pairwise_diffs = _pairwise_differences(features)\n",
    "crosswise_diffs = _crosswise_differences(features, features)\n",
    "\n",
    "Kin_muygps = ShearKernel(deformation=dist_fn)(pairwise_diffs)\n",
    "Kcross_muygps = ShearKernel(deformation=dist_fn)(crosswise_diffs, adjust=False)\n",
    "Kin_muygps_flat = Kin_muygps.reshape(961*3, 961*3)\n",
    "Kcross_muygps_flat = Kcross_muygps.reshape( 961 * 3, 961 * 3)\n"
   ]
  },
  {
   "cell_type": "code",
   "execution_count": null,
   "metadata": {},
   "outputs": [],
   "source": [
    "print(Kin_analytic.shape, Kin_muygps.shape, Kin_muygps_flat.shape)\n",
    "print(Kcross_analytic.shape, Kcross_muygps.shape, Kcross_muygps_flat.shape)"
   ]
  },
  {
   "cell_type": "markdown",
   "metadata": {},
   "source": [
    "Check to make sure the `K*` themselves are the same."
   ]
  },
  {
   "cell_type": "code",
   "execution_count": null,
   "metadata": {},
   "outputs": [],
   "source": [
    "np.allclose(Kin_analytic, Kin_muygps_flat, atol = 1e-6)"
   ]
  },
  {
   "cell_type": "code",
   "execution_count": null,
   "metadata": {},
   "outputs": [],
   "source": [
    "fig, axes = plt.subplots(1, 3, figsize=(12, 4))\n",
    "axes[0].set_title(\"original shear kernel\")\n",
    "axes[0].imshow(Kin_analytic)\n",
    "axes[1].set_title(\"MuyGPyS shear kernel\")\n",
    "axes[1].imshow(Kin_muygps_flat)\n",
    "axes[2].set_title(\"Residual\")\n",
    "im = axes[2].imshow(np.abs(Kin_analytic-Kin_muygps_flat), norm=LogNorm())\n",
    "fig.colorbar(im, ax=axes[2])\n",
    "plt.show()"
   ]
  },
  {
   "cell_type": "code",
   "execution_count": null,
   "metadata": {},
   "outputs": [],
   "source": [
    "np.allclose(Kcross_analytic, Kcross_muygps_flat, atol = 1e-6)"
   ]
  },
  {
   "cell_type": "markdown",
   "metadata": {},
   "source": [
    "Having defined the `K*` matrices, compare posterior means, sans-optimization. \n",
    "This comes from (3.4) in Muyskens et al. (2021), which looks like:\n",
    "$$ \\hat{Y}(X^*|X) \\approx K_{\\theta}(X^*,X)K_{\\theta}(X,X)^{-1}Y(X) $$\n"
   ]
  },
  {
   "cell_type": "code",
   "execution_count": null,
   "metadata": {},
   "outputs": [],
   "source": [
    "posterior_mean_analytic = np.matmul(\n",
    "    np.matmul(Kcross_analytic,np.linalg.inv(Kin_analytic)), \n",
    "    targets_analytic.reshape(961*3,1)\n",
    "    ).reshape(961,3) * np.array(scale_responses) + np.array(mean_responses)"
   ]
  },
  {
   "cell_type": "markdown",
   "metadata": {},
   "source": [
    "We also want the posterior mean from MuyGPyS.\n",
    "To do this, we will create a `muygps` object using the `dist_fn` above."
   ]
  },
  {
   "cell_type": "code",
   "execution_count": null,
   "metadata": {},
   "outputs": [],
   "source": [
    "shear_model = MuyGPS(\n",
    "        kernel=ShearKernel(\n",
    "            deformation=Isotropy(\n",
    "                F2,\n",
    "                length_scale=Parameter(length_scale),\n",
    "            ),\n",
    "        ),\n",
    "    )\n"
   ]
  },
  {
   "cell_type": "code",
   "execution_count": null,
   "metadata": {},
   "outputs": [],
   "source": [
    "posterior_mean_muygps = shear_model.posterior_mean(Kin_muygps[None,:], Kcross_muygps[None,:], targets_muygps).reshape(961,3) * np.array(scale_responses) + np.array(mean_responses)"
   ]
  },
  {
   "cell_type": "markdown",
   "metadata": {},
   "source": [
    "Now we check if things are the same."
   ]
  },
  {
   "cell_type": "code",
   "execution_count": null,
   "metadata": {},
   "outputs": [],
   "source": [
    "np.allclose(posterior_mean_muygps, posterior_mean_analytic, atol=1e-6)"
   ]
  },
  {
   "cell_type": "code",
   "execution_count": null,
   "metadata": {},
   "outputs": [],
   "source": [
    "fig, ax = plt.subplots(3,4, figsize = (10, 10))\n",
    "\n",
    "# Truth\n",
    "ax[0,0].set_title(\"Truth\")\n",
    "ax[0,0].imshow(unscaled_responses[0,:].reshape(31,31))\n",
    "ax[1,0].imshow(unscaled_responses[1,:].reshape(31,31))\n",
    "ax[2,0].imshow(unscaled_responses[2,:].reshape(31,31))\n",
    "\n",
    "ax[0,1].set_title(\"Posterior Mean Analytic\")\n",
    "ax[0,1].imshow(posterior_mean_analytic[:,0].reshape(31,31))\n",
    "ax[1,1].imshow(posterior_mean_analytic[:,1].reshape(31,31))\n",
    "ax[2,1].imshow(posterior_mean_analytic[:,2].reshape(31,31))\n",
    "\n",
    "ax[0,2].set_title(\"Posterior Mean MuyGPS\")\n",
    "ax[0,2].imshow(posterior_mean_muygps[:,0].reshape(31,31))\n",
    "ax[1,2].imshow(posterior_mean_muygps[:,1].reshape(31,31))\n",
    "ax[2,2].imshow(posterior_mean_muygps[:,2].reshape(31,31))\n",
    "\n",
    "ax[0,3].set_title('|Analytic - MuyGPS|')\n",
    "im1 = ax[0,3].imshow((np.abs(posterior_mean_analytic[:,0]-posterior_mean_muygps[:,0])).reshape(31,31), norm=LogNorm())\n",
    "fig.colorbar(im1, shrink=0.75, ax=ax[0,3])\n",
    "im2 = ax[1,3].imshow((np.abs(posterior_mean_analytic[:,1]-posterior_mean_muygps[:,1])).reshape(31,31), norm=LogNorm())\n",
    "fig.colorbar(im2, shrink=0.75, ax=ax[1,3])\n",
    "im3 = ax[2,3].imshow((np.abs(posterior_mean_analytic[:,2]-posterior_mean_muygps[:,2])).reshape(31,31), norm=LogNorm())\n",
    "fig.colorbar(im3, shrink=0.75, ax=ax[2,3])\n",
    "\n"
   ]
  },
  {
   "cell_type": "markdown",
   "metadata": {},
   "source": [
    "These don't look anything close.\n",
    "I'm not sure if I've messed up on:\n",
    "* (a) The actual math for forming the posterior mean\n",
    "* (b) The dimensionality and organization of all of the tensors\n",
    "* (c) Something entirely trivial that either isn't clicking or that I am overlooking\n",
    "\n",
    "Given that the posterior mean is returning weird things anyway, I do not expect things to be the same necessarily, but I am sure I'm doing something either slightly or very wrong."
   ]
  },
  {
   "cell_type": "code",
   "execution_count": null,
   "metadata": {},
   "outputs": [],
   "source": []
  }
 ],
 "metadata": {
  "kernelspec": {
   "display_name": "Python 3 (ipykernel)",
   "language": "python",
   "name": "python3"
  },
  "language_info": {
   "codemirror_mode": {
    "name": "ipython",
    "version": 3
   },
   "file_extension": ".py",
   "mimetype": "text/x-python",
   "name": "python",
   "nbconvert_exporter": "python",
   "pygments_lexer": "ipython3",
   "version": "3.9.18"
  }
 },
 "nbformat": 4,
 "nbformat_minor": 2
}
