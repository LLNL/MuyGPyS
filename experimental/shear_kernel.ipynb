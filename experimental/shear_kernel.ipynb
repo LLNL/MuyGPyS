{
 "cells": [
  {
   "cell_type": "markdown",
   "metadata": {},
   "source": [
    "Copyright 2023-2023 Lawrence Livermore National Security, LLC and other MuyGPyS\n",
    "Project Developers. See the top-level COPYRIGHT file for details.\n",
    "\n",
    "SPDX-License-Identifier: MIT"
   ]
  },
  {
   "cell_type": "markdown",
   "metadata": {},
   "source": [
    "# Nonstationary tutorial\n",
    "\n",
    "This notebook demonstrates how to use the specialized lensing shear kernel (hard-coded to RBF at the moment).\n",
    "\n",
    "⚠️ _Note that this is still an experimental feature._ ⚠️"
   ]
  },
  {
   "cell_type": "code",
   "execution_count": null,
   "metadata": {},
   "outputs": [],
   "source": [
    "import matplotlib.pyplot as plt\n",
    "import numpy as np\n",
    "\n",
    "from MuyGPyS._src.gp.tensors import _pairwise_differences\n",
    "from MuyGPyS.gp import MuyGPS\n",
    "from MuyGPyS.gp.distortion import IsotropicDistortion, l2, F2\n",
    "from MuyGPyS.gp.hyperparameter import ScalarHyperparameter\n",
    "from MuyGPyS.gp.hyperparameter.experimental import (\n",
    "    sample_knots,\n",
    "    HierarchicalNonstationaryHyperparameter,\n",
    ")\n",
    "from MuyGPyS.gp.kernels import RBF\n",
    "from MuyGPyS.gp.noise import HomoscedasticNoise"
   ]
  },
  {
   "cell_type": "markdown",
   "metadata": {},
   "source": [
    "This is required to import the implementation from Bob Armstrong's original repository.\n",
    "It must be cloned in the same directory as MuyGPyS for the relative paths to work."
   ]
  },
  {
   "cell_type": "code",
   "execution_count": null,
   "metadata": {},
   "outputs": [],
   "source": [
    "import importlib.util\n",
    "import sys\n",
    "spec = importlib.util.spec_from_file_location(\"analytic_kernel\", \"../../shear_kernel/analytic_kernel.py\")\n",
    "foo = importlib.util.module_from_spec(spec)\n",
    "sys.modules[\"analytic_kernel\"] = foo\n",
    "spec.loader.exec_module(foo)\n",
    "from analytic_kernel import (\n",
    "    kernelf as kernelf_o,\n",
    "    shear_kernel as shear_kernel_o,\n",
    ")"
   ]
  },
  {
   "cell_type": "markdown",
   "metadata": {},
   "source": [
    "We also import the in-library baseline implementation for sanity checking."
   ]
  },
  {
   "cell_type": "code",
   "execution_count": null,
   "metadata": {},
   "outputs": [],
   "source": [
    "from MuyGPyS._test.shear import shear_kernel as shear_kernel_n"
   ]
  },
  {
   "cell_type": "markdown",
   "metadata": {},
   "source": [
    "We will set a random seed here for consistency when building docs.\n",
    "In practice we would not fix a seed."
   ]
  },
  {
   "cell_type": "code",
   "execution_count": null,
   "metadata": {},
   "outputs": [],
   "source": [
    "np.random.seed(0)"
   ]
  },
  {
   "cell_type": "markdown",
   "metadata": {},
   "source": [
    "Here we build some simple data, which is mean to represent a grid of sky coordinates."
   ]
  },
  {
   "cell_type": "code",
   "execution_count": null,
   "metadata": {},
   "outputs": [],
   "source": [
    "n = 25  # number of galaxies on a side\n",
    "xmin = 0\n",
    "xmax = 1\n",
    "ymin = 0\n",
    "ymax = 1\n",
    "\n",
    "xx = np.linspace(xmin, xmax, n)\n",
    "yy = np.linspace(ymin, ymax, n)\n",
    "\n",
    "x, y = np.meshgrid(xx, yy)\n",
    "features = np.vstack((x.flatten(), y.flatten())).T"
   ]
  },
  {
   "cell_type": "markdown",
   "metadata": {},
   "source": [
    "Here we construct a shear value kernel (partial differential components of RBF), as well as the original RBF kernel using Bob's implementation."
   ]
  },
  {
   "cell_type": "code",
   "execution_count": null,
   "metadata": {},
   "outputs": [],
   "source": [
    "def original_workflow():\n",
    "    # shear value kernel\n",
    "    vals = np.zeros((3 * (n) ** 2, 3 * (n) ** 2))\n",
    "    # original kernel\n",
    "    ovals = np.zeros(((n) ** 2, (n) ** 2))\n",
    "    vals[:] = np.nan\n",
    "    ovals[:] = np.nan\n",
    "    for i, (ix, iy) in enumerate(features):\n",
    "        for j, (jx, jy) in enumerate(features):\n",
    "            vals[i * 3 : (i + 1) * 3, j * 3 : (j + 1) * 3] = shear_kernel_o(ix, iy, jx, jy)\n",
    "            ovals[i, j] = kernelf_o(ix, iy, jx, jy)\n",
    "    return vals, ovals"
   ]
  },
  {
   "cell_type": "code",
   "execution_count": null,
   "metadata": {},
   "outputs": [],
   "source": [
    "vals_o, ovals_o = original_workflow()"
   ]
  },
  {
   "cell_type": "markdown",
   "metadata": {},
   "source": [
    "Here we do the same using the MuyGPyS implementation. Note the increased efficiency."
   ]
  },
  {
   "cell_type": "code",
   "execution_count": null,
   "metadata": {},
   "outputs": [],
   "source": [
    "def MuyGPyS_workflow():\n",
    "    diffs = _pairwise_differences(features)\n",
    "    # shear value kernel\n",
    "    vals = shear_kernel_n(diffs)\n",
    "    # original kernel\n",
    "    kernelf_n = RBF(metric=IsotropicDistortion(metric=F2, length_scale=ScalarHyperparameter(1.0)))\n",
    "    ovals = kernelf_n(diffs)\n",
    "    return vals, ovals"
   ]
  },
  {
   "cell_type": "code",
   "execution_count": null,
   "metadata": {},
   "outputs": [],
   "source": [
    "vals_n, ovals_n = MuyGPyS_workflow()"
   ]
  },
  {
   "cell_type": "markdown",
   "metadata": {},
   "source": [
    "Do the two implementations agree?"
   ]
  },
  {
   "cell_type": "code",
   "execution_count": null,
   "metadata": {
    "scrolled": true
   },
   "outputs": [],
   "source": [
    "np.all((np.allclose(vals_o, vals_n), np.allclose(ovals_o, ovals_n)))"
   ]
  },
  {
   "cell_type": "markdown",
   "metadata": {},
   "source": [
    "Plot results of the baseline and internal implementations. "
   ]
  },
  {
   "cell_type": "code",
   "execution_count": null,
   "metadata": {},
   "outputs": [],
   "source": [
    "fig, axes = plt.subplots(2, 2, figsize=(8, 8))\n",
    "axes[0, 0].imshow(vals_o)\n",
    "axes[0, 0].set_title(\"original shear kernel\")\n",
    "axes[0, 1].imshow(ovals_o)\n",
    "axes[0, 1].set_title(\"original rbf kernel\")\n",
    "axes[1, 0].imshow(vals_n)\n",
    "axes[1, 0].set_title(\"MuyGPyS shear kernel\")\n",
    "axes[1, 1].imshow(ovals_n)\n",
    "axes[1, 1].set_title(\"MuyGPyS rbf kernel\")\n",
    "plt.show()"
   ]
  },
  {
   "cell_type": "markdown",
   "metadata": {},
   "source": [
    "Runtime comparison of the two implementations:"
   ]
  },
  {
   "cell_type": "code",
   "execution_count": null,
   "metadata": {},
   "outputs": [],
   "source": [
    "if True:\n",
    "    %timeit original_workflow()\n",
    "    %timeit MuyGPyS_workflow()"
   ]
  }
 ],
 "metadata": {
  "kernelspec": {
   "display_name": "Python 3 (ipykernel)",
   "language": "python",
   "name": "python3"
  },
  "language_info": {
   "codemirror_mode": {
    "name": "ipython",
    "version": 3
   },
   "file_extension": ".py",
   "mimetype": "text/x-python",
   "name": "python",
   "nbconvert_exporter": "python",
   "pygments_lexer": "ipython3",
   "version": "3.10.9"
  }
 },
 "nbformat": 4,
 "nbformat_minor": 2
}
