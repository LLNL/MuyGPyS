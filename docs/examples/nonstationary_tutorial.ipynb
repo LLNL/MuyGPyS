{
 "cells": [
  {
   "attachments": {},
   "cell_type": "markdown",
   "metadata": {},
   "source": [
    "Copyright 2023-2023 Lawrence Livermore National Security, LLC and other MuyGPyS\n",
    "Project Developers. See the top-level COPYRIGHT file for details.\n",
    "\n",
    "SPDX-License-Identifier: MIT"
   ]
  },
  {
   "attachments": {},
   "cell_type": "markdown",
   "metadata": {},
   "source": [
    "# Nonstationary tutorial\n",
    "\n",
    "This notebook demonstrates how to use hierarchical nonstationary hyperparameters to perform nonstationary regression using a hierarchical model.\n",
    "\n",
    "⚠️ _Note that this is still an experimental feature at this point._ ⚠️"
   ]
  },
  {
   "cell_type": "code",
   "execution_count": 1,
   "metadata": {},
   "outputs": [],
   "source": [
    "import numpy as np"
   ]
  },
  {
   "attachments": {},
   "cell_type": "markdown",
   "metadata": {},
   "source": [
    "We will set a random seed here for consistency when building docs.\n",
    "In practice we would not fix a seed."
   ]
  },
  {
   "cell_type": "code",
   "execution_count": 2,
   "metadata": {},
   "outputs": [],
   "source": [
    "np.random.seed(0)"
   ]
  },
  {
   "attachments": {},
   "cell_type": "markdown",
   "metadata": {},
   "source": [
    "## Preliminary setup"
   ]
  },
  {
   "attachments": {},
   "cell_type": "markdown",
   "metadata": {},
   "source": [
    "For simplicity, we start with an isotropic distortion so we only need to use a single `HierarchicalNonstationaryHyperparameter`."
   ]
  },
  {
   "cell_type": "code",
   "execution_count": 4,
   "metadata": {},
   "outputs": [],
   "source": [
    "from MuyGPyS.gp import MuyGPS\n",
    "from MuyGPyS.gp.distortion import IsotropicDistortion\n",
    "from MuyGPyS.gp.hyperparameter.experimental import (\n",
    "    sample_knots,\n",
    "    HierarchicalNonstationaryHyperparameter,\n",
    ")\n",
    "from MuyGPyS.gp.kernels import RBF\n",
    "\n",
    "knot_count = 10\n",
    "knot_features = sample_knots(feature_count=20, knot_count=knot_count)\n",
    "knot_values = np.random.uniform(size=knot_count)\n",
    "high_level_kernel = RBF()\n",
    "\n",
    "gp = MuyGPS(\n",
    "    kernel=RBF(\n",
    "        metric=IsotropicDistortion(\n",
    "            \"l2\",\n",
    "            length_scale=HierarchicalNonstationaryHyperparameter(\n",
    "                knot_features, knot_values, high_level_kernel\n",
    "            ),\n",
    "        ),\n",
    "    ),\n",
    ")\n"
   ]
  },
  {
   "cell_type": "code",
   "execution_count": null,
   "metadata": {},
   "outputs": [],
   "source": []
  }
 ],
 "metadata": {
  "kernelspec": {
   "display_name": "venv",
   "language": "python",
   "name": "python3"
  },
  "language_info": {
   "codemirror_mode": {
    "name": "ipython",
    "version": 3
   },
   "file_extension": ".py",
   "mimetype": "text/x-python",
   "name": "python",
   "nbconvert_exporter": "python",
   "pygments_lexer": "ipython3",
   "version": "3.9.6"
  },
  "orig_nbformat": 4
 },
 "nbformat": 4,
 "nbformat_minor": 2
}
