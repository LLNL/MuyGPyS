{
 "cells": [
  {
   "cell_type": "markdown",
   "metadata": {},
   "source": [
    "Copyright 2021-2024 Lawrence Livermore National Security, LLC and other MuyGPyS\n",
    "Project Developers. See the top-level COPYRIGHT file for details.\n",
    "\n",
    "SPDX-License-Identifier: MIT"
   ]
  },
  {
   "cell_type": "markdown",
   "metadata": {},
   "source": [
    "# Illustrating MuyGPs Sparsification, Prediction, and Uncertainty Quantification\n",
    "\n",
    "This notebook illustrates how MuyGPs conditions predictions on nearest neighbors and visualizes the posterior distributions."
   ]
  },
  {
   "cell_type": "code",
   "execution_count": null,
   "metadata": {
    "nbsphinx": "hidden"
   },
   "outputs": [],
   "source": [
    "import sys\n",
    "for m in sys.modules.keys():\n",
    "    if m.startswith(\"Muy\"):\n",
    "        sys.modules.pop(m)\n",
    "%env MUYGPYS_BACKEND=numpy\n",
    "%env MUYGPYS_FTYPE=64"
   ]
  },
  {
   "cell_type": "code",
   "execution_count": null,
   "metadata": {},
   "outputs": [],
   "source": [
    "import matplotlib.pyplot as plt\n",
    "import numpy as np\n",
    "\n",
    "from MuyGPyS._test.sampler import UnivariateSampler2D, print_results\n",
    "from MuyGPyS.gp import MuyGPS\n",
    "from MuyGPyS.gp.deformation import Isotropy, l2, F2\n",
    "from MuyGPyS.gp.hyperparameter import AnalyticScale, Parameter\n",
    "from MuyGPyS.gp.kernels import Matern, RBF\n",
    "from MuyGPyS.gp.noise import HomoscedasticNoise\n",
    "from MuyGPyS.neighbors import NN_Wrapper\n",
    "from MuyGPyS.optimize.batch import sample_batch"
   ]
  },
  {
   "cell_type": "markdown",
   "metadata": {},
   "source": [
    "We will set a random seed here for consistency when building docs.\n",
    "In practice we would not fix a seed."
   ]
  },
  {
   "cell_type": "code",
   "execution_count": null,
   "metadata": {},
   "outputs": [],
   "source": [
    "np.random.seed(0)"
   ]
  },
  {
   "cell_type": "markdown",
   "metadata": {},
   "source": [
    "## Sampling a 2D Surface from a Conventional GP\n",
    "\n",
    "This notebook will use a simple two-dimensional curve sampled from a conventional Gaussian process.\n",
    "We will specify the domain as a simple grid on a one-dimensional surface and divide the observations näively into train and test data.\n",
    "\n",
    "Feel free to download the source notebook and experiment with different parameters."
   ]
  },
  {
   "cell_type": "markdown",
   "metadata": {},
   "source": [
    "First we specify the data size and the proportion of the train/test split."
   ]
  },
  {
   "cell_type": "code",
   "execution_count": null,
   "metadata": {},
   "outputs": [],
   "source": [
    "points_per_dim = 60\n",
    "train_ratio = 0.2"
   ]
  },
  {
   "cell_type": "markdown",
   "metadata": {},
   "source": [
    "We use all of these parameters to define a Matérn kernel GP and a sampler for convenience.\n",
    "The `UnivariateSampler2D` class is a convenience class for this tutorial, and is not a part of the library.\n",
    "We will use an anisotropic deformation to ensure that we sample data from the appropriate distribution."
   ]
  },
  {
   "cell_type": "code",
   "execution_count": null,
   "metadata": {},
   "outputs": [],
   "source": [
    "kernel = Matern(\n",
    "    smoothness=Parameter(1.5),\n",
    "    deformation=Isotropy(\n",
    "        l2,\n",
    "        length_scale=Parameter(0.2),\n",
    "    ),\n",
    ")"
   ]
  },
  {
   "cell_type": "code",
   "execution_count": null,
   "metadata": {
    "scrolled": false
   },
   "outputs": [],
   "source": [
    "sampler = UnivariateSampler2D(\n",
    "    points_per_dim=points_per_dim,\n",
    "    train_ratio=train_ratio,\n",
    "    kernel=kernel,\n",
    "    noise=HomoscedasticNoise(1e-7),\n",
    "    measurement_noise=HomoscedasticNoise(1e-14),\n",
    ")"
   ]
  },
  {
   "cell_type": "markdown",
   "metadata": {},
   "source": [
    "Finally, we will sample a curve from this GP prior and visualize it.\n",
    "Note that we perturb the train responses (the values that our model will actual receive) with Gaussian measurement noise.\n",
    "Further note that this is not especially fast, as sampling from a conventional Gaussian process requires computing the Cholesky decomposition of a `(data_count, data_count)` matrix."
   ]
  },
  {
   "cell_type": "code",
   "execution_count": null,
   "metadata": {},
   "outputs": [],
   "source": [
    "train_features, test_features = sampler.features()\n",
    "train_count, _ = train_features.shape\n",
    "test_count, _ = test_features.shape"
   ]
  },
  {
   "cell_type": "code",
   "execution_count": null,
   "metadata": {
    "scrolled": true
   },
   "outputs": [],
   "source": [
    "train_responses, test_responses = sampler.sample()"
   ]
  },
  {
   "cell_type": "code",
   "execution_count": null,
   "metadata": {
    "scrolled": false
   },
   "outputs": [],
   "source": [
    "sampler.plot_sample()"
   ]
  },
  {
   "cell_type": "markdown",
   "metadata": {},
   "source": [
    "## Nearest Neighbors Sparsification\n",
    "\n",
    "MuyGPyS achieves fast posterior inference by restricting the conditioning of predictions on only the most relevant points in the training data.\n",
    "Currently, the library does this by utilizing the k nearest neighbors (KNN), relying upon the intution that nearby points in the input space are more highly correlated than distant points, and that nearby points contribute the overwhelming majority of the weight in the posterior mean.\n",
    "While methods other than nearest neighbors are also worth considering, the library presently only supports KNN."
   ]
  },
  {
   "cell_type": "markdown",
   "metadata": {},
   "source": [
    "We will illustrate the intuition behind using KNN.\n",
    "First, we will form a KNN index of the training data for querying.\n",
    "We will use the library's built-in `NN_Wrapper` class, which wraps scikit-learn's exact KNN implementation (used here) and hnswlib's approximate but much faster and more scalable implementation."
   ]
  },
  {
   "cell_type": "code",
   "execution_count": null,
   "metadata": {},
   "outputs": [],
   "source": [
    "nn_count = 50\n",
    "nbrs_lookup = NN_Wrapper(train_features, nn_count, nn_method=\"exact\", algorithm=\"ball_tree\")"
   ]
  },
  {
   "cell_type": "markdown",
   "metadata": {},
   "source": [
    "We will use the same Matérn kernel used to simulate this data."
   ]
  },
  {
   "cell_type": "code",
   "execution_count": null,
   "metadata": {},
   "outputs": [],
   "source": [
    "muygps = MuyGPS(\n",
    "    kernel=kernel,\n",
    "    noise=HomoscedasticNoise(1e-7),\n",
    ")"
   ]
  },
  {
   "cell_type": "markdown",
   "metadata": {},
   "source": [
    "For a given prediction location $\\mathbf{z} \\in \\mathbb{R}^{d}$, and training set $X \\in \\mathbb{R}^{n \\times d}$ with measured univariate responses $\\mathbf{y} \\in \\mathbb{R}^{n}$, a conventional zero-mean GP $f \\sim \\mathcal{GP}(\\mathbf{0}, K(\\cdot, \\cdot))$ predicts the following posterior mean:\n",
    "\n",
    "\\begin{equation}\n",
    "E \\left [ f(\\mathbf{z}) \\mid X, \\mathbf{y} \\right ] = \n",
    "K(\\mathbf{z}, X) K(X, X)^{-1} \\mathbf{y}.\n",
    "\\end{equation}\n",
    "\n",
    "Here $K(\\mathbf{z}, X) \\in \\mathbb{R}^{n}$ is the cross-covariance between $\\mathbf{z}$ and every element of the training data $X$, and $K(X, X) \\in \\mathbb{R}^{n \\times n}$ is the covariance matrix of $X$ with itself, whose inverse is sometimes called the precision matrix.\n",
    "The product of the cross-covariance with the precision matrix $K(\\mathbf{z}, X) K(X, X)^{-1} \\in \\mathbb{R}^n$ are sometimes called the _kriging weights_.\n",
    "These kriging weights effectively induce a weighted average of the observed responses $\\mathbf{y}$.\n",
    "Ergo, if the kriging weights are sparse (and for many practical problems they are), we need only compute the sparse elements of the kriging weights to approximate the posterior mean!"
   ]
  },
  {
   "cell_type": "markdown",
   "metadata": {},
   "source": [
    "Here we will illustrate our claim by observing the kriging weights for all of the training data for a particular prediction point.\n",
    "We choose a test point, represented by the red plus, and plot the kriging weights of\n",
    "- (left) a version of the problem including all of the data (for illustration purposes)\n",
    "- (center) the posterior mean conditioned on the training data\n",
    "- (right) the posterior mean conditioned only on the nearest neighbors"
   ]
  },
  {
   "cell_type": "code",
   "execution_count": null,
   "metadata": {},
   "outputs": [],
   "source": [
    "test_index = int(test_count / 2) + 20"
   ]
  },
  {
   "cell_type": "code",
   "execution_count": null,
   "metadata": {
    "scrolled": true
   },
   "outputs": [],
   "source": [
    "sampler.plot_kriging_weights(test_index, nbrs_lookup)"
   ]
  },
  {
   "cell_type": "markdown",
   "metadata": {},
   "source": [
    "As we can see, the kriging weights of the GP problem (center plot) isolate most of the weight near the query point (red plus) in space.\n",
    "We can sparsify the kriging weights by only considering the nearest neighbors, represented in the right plot, while maintaining most of the covariance information to predict the point."
   ]
  },
  {
   "cell_type": "markdown",
   "metadata": {},
   "source": [
    "## Comparing MuyGPs to Conventional GP Posteriors\n",
    "\n",
    "Here we will compute posterior mean and variances for the data using both a conventional GP approach and MuyGPs.\n",
    "\n",
    "First, we compute a conventional GP."
   ]
  },
  {
   "cell_type": "code",
   "execution_count": null,
   "metadata": {},
   "outputs": [],
   "source": [
    "crosswise_dists_full = kernel.deformation.crosswise_tensor(\n",
    "    test_features,\n",
    "    train_features,\n",
    "    np.arange(test_count),\n",
    "    [np.arange(train_count) for _ in range(test_count)],\n",
    ")\n",
    "pairwise_dists_full = kernel.deformation.pairwise_tensor(\n",
    "    train_features,\n",
    "    np.arange(train_count),\n",
    ")"
   ]
  },
  {
   "cell_type": "code",
   "execution_count": null,
   "metadata": {},
   "outputs": [],
   "source": [
    "Kcross_full = kernel(crosswise_dists_full)\n",
    "Kin_full = kernel(pairwise_dists_full)"
   ]
  },
  {
   "cell_type": "markdown",
   "metadata": {},
   "source": [
    "Here we'll stop to note that we have three matrices: the cross-covariance (`Kcross_full`), the covariance (`Kin_full`), and the response vector (`train_responses`).\n",
    "The mean and covariance are computed in terms of dense solves involving these matrices, whose dimensions increase linearly in the data size (resulting in a quadratic increase in storage and a cubic increase in runtime)."
   ]
  },
  {
   "cell_type": "code",
   "execution_count": null,
   "metadata": {},
   "outputs": [],
   "source": [
    "print(f\"Kcross_full shape: {Kcross_full.shape}\")\n",
    "print(f\"Kin_full shape: {Kin_full.shape}\")\n",
    "print(f\"train_responses shape: {train_responses.shape}\")"
   ]
  },
  {
   "cell_type": "markdown",
   "metadata": {},
   "source": [
    "We use these matrices to compute the posterior mean and variance, and construct univariate 95% confidence intervals for each individual prediction."
   ]
  },
  {
   "cell_type": "code",
   "execution_count": null,
   "metadata": {},
   "outputs": [],
   "source": [
    "mean_full = Kcross_full @ np.linalg.solve(Kin_full, train_responses)\n",
    "covariance_full = 1 - Kcross_full @ np.linalg.solve(Kin_full, Kcross_full.T)\n",
    "covariance_diag = np.diag(covariance_full)\n",
    "confidence_interval_full = np.sqrt(covariance_diag) * 1.96\n",
    "coverage_full = (\n",
    "    np.count_nonzero(\n",
    "        np.abs(test_responses - mean_full) < confidence_interval_full\n",
    "    ) / test_count\n",
    ")"
   ]
  },
  {
   "cell_type": "markdown",
   "metadata": {},
   "source": [
    "Now we repeat a similar workflow for MuyGPs.\n",
    "This time, we sample nearest neighbors from the previously-constructed index and create distance tensors using `MuyGPyS` convenience functions."
   ]
  },
  {
   "cell_type": "code",
   "execution_count": null,
   "metadata": {},
   "outputs": [],
   "source": [
    "nn_indices, _ = nbrs_lookup.get_nns(test_features)\n",
    "(\n",
    "    crosswise_dists,\n",
    "    pairwise_dists,\n",
    "    nn_responses,\n",
    ") = muygps.make_predict_tensors(\n",
    "    np.arange(test_count),\n",
    "    nn_indices,\n",
    "    test_features,\n",
    "    train_features,\n",
    "    train_responses,\n",
    ")"
   ]
  },
  {
   "cell_type": "code",
   "execution_count": null,
   "metadata": {},
   "outputs": [],
   "source": [
    "Kcross = muygps.kernel(crosswise_dists)\n",
    "Kin = muygps.kernel(pairwise_dists)"
   ]
  },
  {
   "cell_type": "markdown",
   "metadata": {},
   "source": [
    "We now have three tensors, similar to the conventional workflow: `Kcross`, `Kin`, and `nn_responses`.\n",
    "These tensors have the following shapes, which only increase linearly as the data size increases, which drastically improves scalability compared to the conventional GP."
   ]
  },
  {
   "cell_type": "code",
   "execution_count": null,
   "metadata": {},
   "outputs": [],
   "source": [
    "print(f\"Kcross shape: {Kcross.shape}\")\n",
    "print(f\"Kin shape: {Kin.shape}\")\n",
    "print(f\"nn_responses shape: {nn_responses.shape}\")"
   ]
  },
  {
   "cell_type": "markdown",
   "metadata": {},
   "source": [
    "Here we use `MuyGPyS` to compute the posterior distribution, similar in form to the conventional GP. "
   ]
  },
  {
   "cell_type": "code",
   "execution_count": null,
   "metadata": {},
   "outputs": [],
   "source": [
    "mean_muygps = muygps.posterior_mean(\n",
    "    Kin, Kcross, nn_responses\n",
    ")\n",
    "variance_muygps = muygps.posterior_variance(\n",
    "    Kin, Kcross\n",
    ")\n",
    "confidence_interval_muygps = np.sqrt(variance_muygps) * 1.96\n",
    "coverage_muygps = (\n",
    "    np.count_nonzero(\n",
    "        np.abs(test_responses - mean_muygps) < confidence_interval_muygps\n",
    "    ) / test_count\n",
    ")"
   ]
  },
  {
   "cell_type": "markdown",
   "metadata": {},
   "source": [
    "Finally, we compare our performance.\n",
    "The left column plots the absolute residual of each posterior mean implementation with the true response for the whole test dataset.\n",
    "The center column plots the size of the 95% confidence intervals across the whole dataset.\n",
    "Finally, the right column plots where the residual exceeds the confidence interval.\n",
    "Red points in the right column exceed the confidence interval, which should comprise 5% of the data if the uncertainties are calibrated."
   ]
  },
  {
   "cell_type": "code",
   "execution_count": null,
   "metadata": {},
   "outputs": [],
   "source": [
    "sampler.plot_errors(\n",
    "    (\"MuyGPs\", mean_muygps, confidence_interval_muygps),\n",
    "    (\"Conventional\", mean_full, confidence_interval_full),\n",
    ")"
   ]
  },
  {
   "cell_type": "markdown",
   "metadata": {},
   "source": [
    "We can see that the MuyGPyS posteriors closely matches the conventional GP, while remaining much more scalable.\n",
    "Note especially that the same points exceed the confidence interval for each model.\n",
    "Hopefully, this demonstration has helped to motivate the MuyGPs sparsification approach.\n",
    "For more validation, we directly compare some summary statistics of the two approaches."
   ]
  },
  {
   "cell_type": "code",
   "execution_count": null,
   "metadata": {},
   "outputs": [],
   "source": [
    "print_results(\n",
    "    test_responses,\n",
    "    (\"MuyGPyS\", muygps, mean_muygps, variance_muygps, confidence_interval_muygps, coverage_muygps),\n",
    "    (\"Conventional\", muygps, mean_full, covariance_diag, confidence_interval_full, coverage_full),\n",
    ")"
   ]
  }
 ],
 "metadata": {
  "@webio": {
   "lastCommId": null,
   "lastKernelId": null
  },
  "kernelspec": {
   "display_name": "Python 3 (ipykernel)",
   "language": "python",
   "name": "python3"
  },
  "language_info": {
   "codemirror_mode": {
    "name": "ipython",
    "version": 3
   },
   "file_extension": ".py",
   "mimetype": "text/x-python",
   "name": "python",
   "nbconvert_exporter": "python",
   "pygments_lexer": "ipython3",
   "version": "3.10.9"
  },
  "toc": {
   "base_numbering": 1,
   "nav_menu": {},
   "number_sections": true,
   "sideBar": true,
   "skip_h1_title": false,
   "title_cell": "Table of Contents",
   "title_sidebar": "Contents",
   "toc_cell": false,
   "toc_position": {},
   "toc_section_display": true,
   "toc_window_display": false
  }
 },
 "nbformat": 4,
 "nbformat_minor": 4
}
