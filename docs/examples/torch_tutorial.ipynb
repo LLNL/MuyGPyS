{
 "cells": [
  {
   "cell_type": "markdown",
   "id": "2c123e93",
   "metadata": {},
   "source": [
    "Copyright 2021-2024 Lawrence Livermore National Security, LLC and other MuyGPyS Project Developers. See the top-level COPYRIGHT file for details.\n",
    "\n",
    "SPDX-License-Identifier: MIT\n",
    "\n",
    "# Deep Kernels with MuyGPs in PyTorch Tutorial\n",
    "\n",
    "In this tutorial, we outline how to construct a simple deep kernel model using the PyTorch implementation of MuyGPs.\n"
   ]
  },
  {
   "cell_type": "markdown",
   "id": "b83dc4cd",
   "metadata": {},
   "source": [
    "We use the MNIST classification problem as a benchmark.\n",
    "We will use the deep kernel MuyGPs model to classify images of handwritten digits between 0 and 9.\n",
    "In order to reduce the runtime of the training loop, we will use a fully-connected architecture, meaning we will have to vectorize each image prior to training.\n",
    "We download the training and testing data using the torchvision.datasets API."
   ]
  },
  {
   "cell_type": "code",
   "execution_count": 1,
   "id": "3c5b93d3",
   "metadata": {
    "nbsphinx": "hidden"
   },
   "outputs": [],
   "source": [
    "import sys\n",
    "for m in sys.modules.keys():\n",
    "    if m.startswith(\"Muy\"):\n",
    "        sys.modules.pop(m)"
   ]
  },
  {
   "cell_type": "markdown",
   "id": "e2a52af1",
   "metadata": {},
   "source": [
    "First, we will import necessary dependencies.\n",
    "We also force MuyGPyS to use the `\"torch\"` backend.\n",
    "This can also be done by setting the `MUYGPYS_BACKEND` environment variable to `\"torch\"`. "
   ]
  },
  {
   "cell_type": "code",
   "execution_count": 2,
   "id": "ae9bb692",
   "metadata": {},
   "outputs": [
    {
     "name": "stdout",
     "output_type": "stream",
     "text": [
      "env: MUYGPYS_BACKEND=torch\n",
      "env: MUYGPYS_FTYPE=32\n"
     ]
    }
   ],
   "source": [
    "%env MUYGPYS_BACKEND=torch\n",
    "%env MUYGPYS_FTYPE=32"
   ]
  },
  {
   "cell_type": "code",
   "execution_count": 3,
   "id": "9f72675f",
   "metadata": {},
   "outputs": [
    {
     "name": "stderr",
     "output_type": "stream",
     "text": [
      "WARNING: All log messages before absl::InitializeLog() is called are written to STDERR\n",
      "I0000 00:00:1707872829.179408       1 tfrt_cpu_pjrt_client.cc:349] TfrtCpuClient created.\n"
     ]
    }
   ],
   "source": [
    "import numpy as np\n",
    "import random\n",
    "import matplotlib.pyplot as plt\n",
    "import os\n",
    "import torch\n",
    "import torchvision\n",
    "from MuyGPyS.examples.muygps_torch import predict_model\n",
    "from MuyGPyS.gp import MuyGPS \n",
    "from MuyGPyS.gp.deformation import l2, Isotropy\n",
    "from MuyGPyS.gp.hyperparameter import Parameter\n",
    "from MuyGPyS.gp.kernels import Matern\n",
    "from MuyGPyS.gp.noise import HomoscedasticNoise\n",
    "from MuyGPyS.neighbors import NN_Wrapper\n",
    "from MuyGPyS.optimize.batch import sample_batch\n",
    "from MuyGPyS.torch import MuyGPs_layer\n",
    "from torch import nn\n",
    "from torch.nn.functional import one_hot\n",
    "from torch.optim.lr_scheduler import ExponentialLR"
   ]
  },
  {
   "cell_type": "markdown",
   "id": "14b93a3d",
   "metadata": {},
   "source": [
    "We set the target directory for torch to download MNIST."
   ]
  },
  {
   "cell_type": "code",
   "execution_count": 4,
   "id": "888637aa",
   "metadata": {},
   "outputs": [],
   "source": [
    "root = './data'\n",
    "if not os.path.exists(root):\n",
    "    os.mkdir(root)"
   ]
  },
  {
   "cell_type": "markdown",
   "id": "124c8d0e",
   "metadata": {},
   "source": [
    "We use torch's utilities to download MNIST and transform it into an appropriately normalized tensor."
   ]
  },
  {
   "cell_type": "code",
   "execution_count": 5,
   "id": "56e51b89",
   "metadata": {},
   "outputs": [],
   "source": [
    "trans = torchvision.transforms.Compose(\n",
    "    [\n",
    "        torchvision.transforms.ToTensor(),\n",
    "        torchvision.transforms.Normalize((0.5,),(1.0,)),\n",
    "    ]\n",
    ")\n",
    "train_set = torchvision.datasets.MNIST(\n",
    "    root=root, train=True, transform=trans, download=True\n",
    ")\n",
    "test_set = torchvision.datasets.MNIST(\n",
    "    root=root, train=False, transform=trans, download=True\n",
    ")"
   ]
  },
  {
   "cell_type": "markdown",
   "id": "2914f92e",
   "metadata": {},
   "source": [
    "MNIST is a popular benchmark dataset of hand-written digits, 0-9.\n",
    "Each digit is a 28x28 pixel image, with 784 total pixel features."
   ]
  },
  {
   "cell_type": "code",
   "execution_count": 6,
   "id": "c49a0be9",
   "metadata": {},
   "outputs": [
    {
     "data": {
      "image/png": "[encoded data removed]",
      "text/plain": [
       "<Figure size 1000x300 with 6 Axes>"
      ]
     },
     "metadata": {},
     "output_type": "display_data"
    }
   ],
   "source": [
    "fig, axes = plt.subplots(1, 6, figsize=(10, 3))\n",
    "for i, ax in enumerate(axes):\n",
    "    ax.imshow(train_set.data[i, :, :])\n",
    "    ax.set_xticks([])\n",
    "    ax.set_yticks([])\n",
    "plt.show()"
   ]
  },
  {
   "cell_type": "markdown",
   "id": "66125f37",
   "metadata": {},
   "source": [
    "In the interest of reducing the runtime of this example, we will use vectorized images as our features in\n",
    "this dataset.\n",
    "We will collect 60,000 training samples and 10,000 test samples."
   ]
  },
  {
   "cell_type": "code",
   "execution_count": 7,
   "id": "dabad0cf",
   "metadata": {},
   "outputs": [],
   "source": [
    "class_count = len(train_set.classes)\n",
    "train_count, x_pixel_count, y_pixel_count = train_set.data.shape\n",
    "test_count, _, _ = test_set.data.shape\n",
    "feature_count = x_pixel_count * y_pixel_count"
   ]
  },
  {
   "cell_type": "markdown",
   "id": "aadcde3c",
   "metadata": {},
   "source": [
    "We vectorize the images and one-hot encode the class labels.\n"
   ]
  },
  {
   "cell_type": "code",
   "execution_count": 8,
   "id": "f71dd370",
   "metadata": {},
   "outputs": [],
   "source": [
    "train_features = torch.zeros((train_count, feature_count))\n",
    "train_responses = torch.zeros((train_count, class_count))\n",
    "\n",
    "for i in range(train_count):\n",
    "    train_features[i,:] = train_set[i][0].flatten()\n",
    "    train_responses[i,:] = one_hot(\n",
    "        torch.tensor(train_set[i][1]).to(torch.int64),\n",
    "        num_classes=class_count,\n",
    "    )\n",
    "\n",
    "test_features = torch.zeros((test_count, feature_count))\n",
    "test_responses = torch.zeros((test_count, class_count))\n",
    "\n",
    "for i in range(test_count):\n",
    "    test_features[i,:] = test_set[i][0].flatten()\n",
    "    test_responses[i,:] = one_hot(\n",
    "        torch.tensor(test_set[i][1]).to(torch.int64),\n",
    "        num_classes=class_count,\n",
    "    )"
   ]
  },
  {
   "cell_type": "markdown",
   "id": "319abcfa",
   "metadata": {},
   "source": [
    "We set up our nearest neighbor lookup structure using the NN_Wrapper data structure in MuyGPs.\n",
    "We then define our batch and construct tensor containing the features and targets of the batched elements and their 30 nearest neighbors.\n",
    "We choose an algorithm that will return the exact nearest neighbors.\n",
    "We set a random seed for reproducability."
   ]
  },
  {
   "cell_type": "code",
   "execution_count": 9,
   "id": "9bd9469e",
   "metadata": {},
   "outputs": [],
   "source": [
    "torch.autograd.set_detect_anomaly(True)\n",
    "np.random.seed(0)\n",
    "test_count, _ = test_features.shape\n",
    "train_count, _ = train_features.shape\n",
    "\n",
    "nn_count = 30\n",
    "nbrs_lookup = NN_Wrapper(train_features, nn_count, nn_method=\"exact\")"
   ]
  },
  {
   "cell_type": "markdown",
   "id": "42073b2d",
   "metadata": {},
   "source": [
    "We sample a training batch of 500 elements and record their indices and those of their nearest neighbors."
   ]
  },
  {
   "cell_type": "code",
   "execution_count": 10,
   "id": "fa31e88f",
   "metadata": {},
   "outputs": [],
   "source": [
    "batch_count = 500\n",
    "batch_indices, batch_nn_indices = sample_batch(\n",
    "    nbrs_lookup, batch_count, train_count\n",
    ")\n",
    "\n",
    "batch_features = train_features[batch_indices,:]\n",
    "batch_targets = train_responses[batch_indices, :]\n",
    "batch_nn_targets = train_responses[batch_nn_indices, :]\n",
    "\n",
    "if torch.cuda.is_available():\n",
    "    train_features = train_features.cuda()\n",
    "    train_responses = train_responses.cuda()\n",
    "    test_features = test_features.cuda()\n",
    "    test_responses = test_responses.cuda()"
   ]
  },
  {
   "cell_type": "markdown",
   "id": "67ef039a",
   "metadata": {},
   "source": [
    "We now define a stochastic variational deep kernel MuyGPs class.\n",
    "This class composes a dense neural network embedding with a `MuyGPyS.torch.muygps_layer` Gaussian process layer.\n",
    "Presently, this layer only supports the Matérn kernel with special values of the smoothness parameter set to 0.5, 1.5, 2.5, or $\\infty$.\n",
    "The smoothness values are limited because `torch` does not implement modified bessel functions of the second kind.\n",
    "Future versions of the library will also support other kernel types."
   ]
  },
  {
   "cell_type": "code",
   "execution_count": 11,
   "id": "afa79b85",
   "metadata": {},
   "outputs": [],
   "source": [
    "class SVDKMuyGPs(nn.Module):\n",
    "    def __init__(\n",
    "        self,\n",
    "        muygps_model,\n",
    "        batch_indices,\n",
    "        batch_nn_indices,\n",
    "        batch_targets,\n",
    "        batch_nn_targets,\n",
    "    ):\n",
    "        super().__init__()\n",
    "        self.embedding = nn.Sequential(\n",
    "            nn.Linear(784,400),\n",
    "            nn.ReLU(),\n",
    "            nn.Linear(400,200),\n",
    "            nn.ReLU(),\n",
    "            nn.Linear(200,100),\n",
    "        )\n",
    "        self.batch_indices = batch_indices\n",
    "        self.batch_nn_indices = batch_nn_indices\n",
    "        self.batch_targets = batch_targets\n",
    "        self.batch_nn_targets = batch_nn_targets\n",
    "        self.GP_layer = MuyGPs_layer(\n",
    "            muygps_model,\n",
    "            batch_indices,\n",
    "            batch_nn_indices,\n",
    "            batch_targets,\n",
    "            batch_nn_targets,\n",
    "        )\n",
    "        self.deformation = self.GP_layer.deformation\n",
    "    \n",
    "    def forward(self,x): \n",
    "        predictions = self.embedding(x)\n",
    "        predictions, variances = self.GP_layer(predictions)\n",
    "        return predictions, variances"
   ]
  },
  {
   "cell_type": "markdown",
   "id": "14df56f9",
   "metadata": {},
   "source": [
    "## Training a Deep Kernel MuyGPs Model"
   ]
  },
  {
   "cell_type": "markdown",
   "id": "25af10b7",
   "metadata": {},
   "source": [
    "We will use a Matérn kernel with a smoothness parameter of 0.5 and a Guassian homoscedastic noise prior variance of `1e-6`."
   ]
  },
  {
   "cell_type": "markdown",
   "id": "62bc1010",
   "metadata": {},
   "source": [
    "⚠️ Presently the torch backend only supports fixed special case Matérn smoothness parameters with values 0.5, 1.5, or 2.5. ⚠️"
   ]
  },
  {
   "cell_type": "markdown",
   "id": "ae5e29b8",
   "metadata": {},
   "source": [
    "⚠️ An isotropic length scale is the only torch-optimizable parameter. ⚠️"
   ]
  },
  {
   "cell_type": "code",
   "execution_count": 12,
   "id": "d50b9f56",
   "metadata": {},
   "outputs": [],
   "source": [
    "muygps_model = MuyGPS(\n",
    "    kernel=Matern(\n",
    "        smoothness=Parameter(0.5),\n",
    "        deformation=Isotropy(\n",
    "            l2,\n",
    "            length_scale=Parameter(1.0, (0.1, 2))\n",
    "        ),\n",
    "    ),\n",
    "    noise=HomoscedasticNoise(1e-6),\n",
    ")"
   ]
  },
  {
   "cell_type": "markdown",
   "id": "9cdc2d09",
   "metadata": {},
   "source": [
    "We instantiate a `SVDKMuyGPs` model using this MuyGPS model."
   ]
  },
  {
   "cell_type": "code",
   "execution_count": 13,
   "id": "67b3a311",
   "metadata": {},
   "outputs": [],
   "source": [
    "model = SVDKMuyGPs(\n",
    "    muygps_model = muygps_model,\n",
    "    batch_indices=batch_indices,\n",
    "    batch_nn_indices=batch_nn_indices,\n",
    "    batch_targets=batch_targets,\n",
    "    batch_nn_targets=batch_nn_targets,\n",
    ")\n",
    "if torch.cuda.is_available():\n",
    "    model = model.cuda()"
   ]
  },
  {
   "cell_type": "markdown",
   "id": "c92a3525",
   "metadata": {},
   "source": [
    "We use the Adam optimizer over 10 training iterations, with an initial learning rate of `1e-2` and decay of `0.97`."
   ]
  },
  {
   "cell_type": "code",
   "execution_count": 14,
   "id": "96b50e7d",
   "metadata": {},
   "outputs": [],
   "source": [
    "training_iterations = 10\n",
    "optimizer = torch.optim.Adam(\n",
    "    [{'params': model.parameters()}], lr=1e-2\n",
    ")\n",
    "scheduler = ExponentialLR(optimizer, gamma=0.97)"
   ]
  },
  {
   "cell_type": "markdown",
   "id": "e8a69655",
   "metadata": {},
   "source": [
    "We will use cross-entropy loss, as it is commonly performant for classification problems.\n",
    "Other losses are available."
   ]
  },
  {
   "cell_type": "code",
   "execution_count": 15,
   "id": "63e1b669",
   "metadata": {},
   "outputs": [],
   "source": [
    "ce_loss = nn.CrossEntropyLoss()"
   ]
  },
  {
   "cell_type": "markdown",
   "id": "14c025ff",
   "metadata": {},
   "source": [
    "We construct a standard PyTorch training loop function."
   ]
  },
  {
   "cell_type": "code",
   "execution_count": 16,
   "id": "62ce4411",
   "metadata": {},
   "outputs": [],
   "source": [
    "def train(nbrs_lookup):\n",
    "    for i in range(training_iterations):\n",
    "        model.train()\n",
    "        optimizer.zero_grad()\n",
    "        predictions,variances = model(train_features)\n",
    "        loss = ce_loss(predictions,batch_targets)\n",
    "        loss.backward()      \n",
    "        optimizer.step()\n",
    "        scheduler.step()\n",
    "        if np.mod(i,1) == 0:\n",
    "            print(f\"Iter {i + 1}/{training_iterations} - Loss: {loss.item()}\")\n",
    "            model.eval()\n",
    "            nbrs_lookup = NN_Wrapper(\n",
    "                model.embedding(train_features).detach().numpy(), \n",
    "                nn_count, nn_method=\"exact\"\n",
    "            )\n",
    "            batch_nn_indices,_ = nbrs_lookup._get_nns(\n",
    "                model.embedding(batch_features).detach().numpy(),\n",
    "                nn_count=nn_count,\n",
    "            )\n",
    "            batch_nn_targets = train_responses[batch_nn_indices, :]  \n",
    "            model.batch_nn_indices = batch_nn_indices\n",
    "            model.batch_nn_targets = batch_nn_targets\n",
    "        torch.cuda.empty_cache()\n",
    "    nbrs_lookup = NN_Wrapper(\n",
    "        model.embedding(train_features).detach().numpy(),\n",
    "        nn_count,\n",
    "        nn_method=\"exact\",\n",
    "    )\n",
    "    batch_nn_indices,_ = nbrs_lookup._get_nns(\n",
    "        model.embedding(batch_features).detach().numpy(),\n",
    "        nn_count=nn_count,\n",
    "    )\n",
    "    batch_nn_targets = train_responses[batch_nn_indices, :]\n",
    "    model.batch_nn_indices = batch_nn_indices\n",
    "    model.batch_nn_targets = batch_nn_targets\n",
    "    return nbrs_lookup, model"
   ]
  },
  {
   "cell_type": "markdown",
   "id": "b11548ab",
   "metadata": {},
   "source": [
    "Finally, we execute the training function and evaluate the trained model"
   ]
  },
  {
   "cell_type": "code",
   "execution_count": 17,
   "id": "eb287061",
   "metadata": {},
   "outputs": [
    {
     "name": "stdout",
     "output_type": "stream",
     "text": [
      "Iter 1/10 - Loss: 1.514917016029358\n",
      "Iter 2/10 - Loss: 1.4779890775680542\n",
      "Iter 3/10 - Loss: 1.4398393630981445\n",
      "Iter 4/10 - Loss: 1.423111081123352\n",
      "Iter 5/10 - Loss: 1.4219379425048828\n",
      "Iter 6/10 - Loss: 1.4020675420761108\n",
      "Iter 7/10 - Loss: 1.3868385553359985\n",
      "Iter 8/10 - Loss: 1.3743661642074585\n",
      "Iter 9/10 - Loss: 1.3675148487091064\n",
      "Iter 10/10 - Loss: 1.3568177223205566\n"
     ]
    }
   ],
   "source": [
    "nbrs_lookup, model_trained = train(nbrs_lookup)"
   ]
  },
  {
   "cell_type": "markdown",
   "id": "357019a6",
   "metadata": {},
   "source": [
    "Our final model parameters look like the following:"
   ]
  },
  {
   "cell_type": "code",
   "execution_count": 18,
   "id": "4316f1a4",
   "metadata": {},
   "outputs": [
    {
     "name": "stdout",
     "output_type": "stream",
     "text": [
      "embedding.0.weight, torch.Size([400, 784])\n",
      "embedding.0.bias, torch.Size([400])\n",
      "embedding.2.weight, torch.Size([200, 400])\n",
      "embedding.2.bias, torch.Size([200])\n",
      "embedding.4.weight, torch.Size([100, 200])\n",
      "embedding.4.bias, torch.Size([100])\n",
      "GP_layer.length_scale, 1.0085885524749756\n"
     ]
    }
   ],
   "source": [
    "for n, p in model_trained.named_parameters():\n",
    "    print(f\"{n}, {p.shape if p.shape != torch.Size([]) else p.item()}\") "
   ]
  },
  {
   "cell_type": "markdown",
   "id": "a4f54d60",
   "metadata": {},
   "source": [
    "We then compute and report the performance of the predicted test responses using this trained model."
   ]
  },
  {
   "cell_type": "code",
   "execution_count": 19,
   "id": "101aa630",
   "metadata": {},
   "outputs": [
    {
     "name": "stdout",
     "output_type": "stream",
     "text": [
      "MNIST Prediction Accuracy Using Hybrid Torch Model:\n",
      "0.9361\n"
     ]
    }
   ],
   "source": [
    "predictions, variances = predict_model(\n",
    "    model=model_trained,\n",
    "    test_features=test_features,\n",
    "    train_features=train_features,\n",
    "    train_responses=train_responses,\n",
    "    nbrs_lookup=nbrs_lookup,\n",
    "    nn_count=nn_count,\n",
    ")\n",
    "print(\"MNIST Prediction Accuracy Using Hybrid Torch Model:\")\n",
    "print(\n",
    "    (\n",
    "        torch.sum(\n",
    "            torch.argmax(predictions,dim=1) == torch.argmax(test_responses,dim=1)\n",
    "        ) / 10000\n",
    "    ).numpy()\n",
    ")"
   ]
  },
  {
   "cell_type": "markdown",
   "id": "ae2a5434",
   "metadata": {},
   "source": [
    "We note that this is quite mediocre performance on MNIST. In the interest of reducing notebook runtime we have used a simple fully-connected neural network model to construct the Gaussian process kernel. To achieve results closer to the state-of-the-art (near 100% accuracy), we recommend using more complex architectures which integrate convolutional kernels into the model."
   ]
  }
 ],
 "metadata": {
  "kernelspec": {
   "display_name": "Python 3 (ipykernel)",
   "language": "python",
   "name": "python3"
  },
  "language_info": {
   "codemirror_mode": {
    "name": "ipython",
    "version": 3
   },
   "file_extension": ".py",
   "mimetype": "text/x-python",
   "name": "python",
   "nbconvert_exporter": "python",
   "pygments_lexer": "ipython3",
   "version": "3.10.9"
  },
  "vscode": {
   "interpreter": {
    "hash": "434749ae7207e94f9d6928c9f347c2cd1a679cf18b55a36c093c3f406aed8e17"
   }
  }
 },
 "nbformat": 4,
 "nbformat_minor": 5
}
